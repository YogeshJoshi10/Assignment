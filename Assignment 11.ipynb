{
 "cells": [
  {
   "cell_type": "code",
   "execution_count": null,
   "id": "0fb2e0d1-a3a2-4537-8dbc-f8f4df28aa4d",
   "metadata": {},
   "outputs": [],
   "source": [
    "'''Q1. What is multiprocessing in python? Why is it useful?'''\n",
    "\n",
    "#Ans..\n",
    "\n",
    "'''Multiprocessing in Python refers to the ability of the Python programming language to create and manage \n",
    "multiple processes simultaneously. It allows a program to utilize multiple CPU cores or processors to \n",
    "execute tasks in parallel, thereby increasing the overall performance and efficiency of the program.\n",
    "\n",
    "Multiprocessing is useful in improving performance , full utilixing multiple CPU cores\n",
    ", handling CPU bound task and handling i-o bound tasks.'''"
   ]
  },
  {
   "cell_type": "code",
   "execution_count": null,
   "id": "118360ee-45a2-448f-9f92-3b8fce671ea2",
   "metadata": {},
   "outputs": [],
   "source": [
    "'''Q2. What are the differences between multiprocessing and multithreading?'''\n",
    "\n",
    "#Ans..\n",
    "\n",
    "1. Multiprocessing uses two or more CPUs to increase computing power, whereas multithreading uses a single\n",
    "process with multiple code segments to increase computing power.\n",
    "\n",
    "2. Multithreading focuses on generating computing threads from a single process, whereas multiprocessing \n",
    "increases computing power by adding CPUs.\n",
    "\n",
    "3. Multiprocessing is used to create a more reliable system, whereas multithreading is used to create \n",
    "threads that run parallel to each other.\n",
    "\n",
    "4. Multithreading is quick to create and requires few resources, whereas multiprocessing requires a \n",
    "significant amount of time and specific resources to create."
   ]
  },
  {
   "cell_type": "code",
   "execution_count": null,
   "id": "81e46aed-2176-4fb0-9e0f-a4ea2d5facd2",
   "metadata": {},
   "outputs": [],
   "source": [
    "'''Q3. Write a python code to create a process using the multiprocessing module.'''\n",
    "\n",
    "#Ans.. \n",
    "\n",
    "import multiprocessing\n",
    "\n",
    "def worker():\n",
    "    print(\"Worker process executing\")\n",
    "\n",
    "if __name__ == \"__main__\":\n",
    "    process = multiprocessing.Process(target=worker)\n",
    "    process.start()\n",
    "    process.join()"
   ]
  },
  {
   "cell_type": "code",
   "execution_count": null,
   "id": "ced263b7-9424-452b-b268-3a5a6868a43f",
   "metadata": {},
   "outputs": [],
   "source": [
    "'''Q4. What is a multiprocessing pool in python? Why is it used?'''\n",
    "\n",
    "#Ans..\n",
    "\n",
    "'''The Pool class in multiprocessing can handle an enormous number of processes. It allows you to run multiple\n",
    "jobs per process (due to its ability to queue the jobs). The memory is allocated only to the executing\n",
    "processes, unlike the Process class, which allocates memory to all the processes.\n",
    "\n",
    "Python multiprocessing Pool can be used for parallel execution of a function across multiple input values,\n",
    "distributing the input data across processes '''"
   ]
  },
  {
   "cell_type": "code",
   "execution_count": null,
   "id": "96e3a69d-0ede-4643-afcc-9e4476013d89",
   "metadata": {},
   "outputs": [],
   "source": [
    "'''Q5. How can we create a pool of worker processes in python using the multiprocessing module?'''\n",
    "\n",
    "#Ans..\n",
    "\n",
    "'''We can create a pool of worker processes in Python using the multiprocessing module by using the Pool class. \n",
    "The Pool class provides a convenient way to parallelize the execution of a function across multiple input\n",
    "values, distributing the input data across the processes in the pool.'''\n",
    "\n",
    "import multiprocessing\n",
    "\n",
    "def print_number(number):\n",
    "    print(f\"Process {number} printing number {number}\")\n",
    "\n",
    "if __name__ == \"__main__\":\n",
    "    pool = multiprocessing.Pool(processes=4)\n",
    "    \n",
    "    pool.map(print_number, range(4)\n",
    "    pool.close()\n",
    "    pool.join()"
   ]
  },
  {
   "cell_type": "code",
   "execution_count": null,
   "id": "757b28b8-72c5-4090-a4be-444f47b0d2b7",
   "metadata": {},
   "outputs": [],
   "source": [
    "'''Q6. Write a python program to create 4 processes, each process should print a different number using the\n",
    "multiprocessing module in python.'''\n",
    "\n",
    "#Ans..\n",
    "\n",
    "import multiprocessing\n",
    "\n",
    "def print_number(number):\n",
    "    print(f\"Process {number} printing number {number}\")\n",
    "\n",
    "if __name__ == \"__main__\":\n",
    "    processes = []\n",
    "    \n",
    "    for i in range(4):\n",
    "        process = multiprocessing.Process(target=print_number, args=(i,))\n",
    "        \n",
    "        process.start()\n",
    "        \n",
    "        processes.append(process)\n",
    "    \n",
    "    for process in processes:\n",
    "        process.join()"
   ]
  }
 ],
 "metadata": {
  "kernelspec": {
   "display_name": "Python 3 (ipykernel)",
   "language": "python",
   "name": "python3"
  },
  "language_info": {
   "codemirror_mode": {
    "name": "ipython",
    "version": 3
   },
   "file_extension": ".py",
   "mimetype": "text/x-python",
   "name": "python",
   "nbconvert_exporter": "python",
   "pygments_lexer": "ipython3",
   "version": "3.10.8"
  }
 },
 "nbformat": 4,
 "nbformat_minor": 5
}
