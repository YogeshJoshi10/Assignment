{
 "cells": [
  {
   "cell_type": "code",
   "execution_count": 6,
   "id": "975ffa89-8a1a-419e-b6ea-cd4780517a2d",
   "metadata": {},
   "outputs": [],
   "source": [
    "#Q1\n",
    "\n",
    "string=\"Yogesh\"\n",
    "l=[1,2,3,4,5.6,\"assignment\"]\n",
    "fl=4.5\n",
    "tup=(2,3,2,23,)"
   ]
  },
  {
   "cell_type": "code",
   "execution_count": 13,
   "id": "3510b342-9dcf-48eb-87b5-35da22f882a7",
   "metadata": {},
   "outputs": [],
   "source": [
    "#Q2\n",
    "\n",
    "# var1 = string\n",
    "# var2 = string\n",
    "# var3 = list\n",
    "# var4 = integer"
   ]
  },
  {
   "cell_type": "code",
   "execution_count": null,
   "id": "5ae50b3e-420b-4bf3-8836-f54b5af9d2fb",
   "metadata": {},
   "outputs": [],
   "source": [
    "#Q3 \n",
    "\n",
    "# / refers to division\n",
    "4/2\n",
    "\n",
    "# % gives remainder or we can say it modulus\n",
    "5%2 \n",
    "\n",
    "# // floor division \n",
    "9//2\n",
    "\n",
    "# ** exponentiation \n",
    "2**3 #gives you the product 8\n"
   ]
  },
  {
   "cell_type": "code",
   "execution_count": null,
   "id": "f1b221cd-d8c3-44aa-8d49-d2fc27c04e22",
   "metadata": {},
   "outputs": [],
   "source": [
    "#Q4\n",
    "\n",
    "list1=[2,3,1,34,4.5,32,\"yogesh\",\"joshi\",2.9]\n",
    "for i in list1:\n",
    "    print (i)\n",
    "    print(type(i))"
   ]
  },
  {
   "cell_type": "code",
   "execution_count": null,
   "id": "7120a194-2000-4a8f-8c62-c601f77378fd",
   "metadata": {},
   "outputs": [],
   "source": [
    "#Q5\n",
    "\n",
    "#taking input from user\n",
    "\n",
    "A=int(input(\"Enter number A:\"))\n",
    "B=int(input(\"Enter number B:\"))\n",
    "count=0\n",
    "while A%B==0:\n",
    "    count+=1\n",
    "    A=A/B\n",
    "\n",
    "if count>0:\n",
    "    print(\"A is purely divisible by B\",count,\"times\")\n",
    "\n",
    "else:\n",
    "    print(\"A is not purely divisible by B\")"
   ]
  },
  {
   "cell_type": "code",
   "execution_count": null,
   "id": "58e3a55b-a550-4139-ab55-c4ede4fca5ba",
   "metadata": {},
   "outputs": [],
   "source": [
    "#Q6\n",
    "\n",
    "l=[2,3,45,34,3,13,24,21,78,8,67,64,34,23,22,19,90,75,43,22,99,98,79,69,50]\n",
    "for i in l:\n",
    "    if i%3==0:\n",
    "        print(i,\"is divisible by 3\")\n",
    "    else:\n",
    "        print(i,\"is not divisible by 3\")"
   ]
  },
  {
   "cell_type": "code",
   "execution_count": null,
   "id": "d4499677-ad12-4e7a-ad89-85482681ead6",
   "metadata": {},
   "outputs": [],
   "source": [
    "#Q7\n",
    "\n",
    "# Mutable datatypes are those that can be changed after they are created\n",
    "# Immutable datatypes cannot be changed once they are created\n",
    "\n",
    "# example of mutable data type\n",
    "\n",
    "l=[1,2,3,31]\n",
    "l[3]=4\n",
    "print(l)\n",
    "\n",
    "# example of immutable data type\n",
    "\n",
    "a=\"Word\"\n",
    "a[2]=\"B\"\n",
    "print(a)"
   ]
  }
 ],
 "metadata": {
  "kernelspec": {
   "display_name": "Python 3 (ipykernel)",
   "language": "python",
   "name": "python3"
  },
  "language_info": {
   "codemirror_mode": {
    "name": "ipython",
    "version": 3
   },
   "file_extension": ".py",
   "mimetype": "text/x-python",
   "name": "python",
   "nbconvert_exporter": "python",
   "pygments_lexer": "ipython3",
   "version": "3.10.8"
  }
 },
 "nbformat": 4,
 "nbformat_minor": 5
}
