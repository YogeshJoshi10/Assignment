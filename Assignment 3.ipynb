{
 "cells": [
  {
   "cell_type": "code",
   "execution_count": null,
   "id": "dbe67fd1-9757-4109-abd3-78504ba6865b",
   "metadata": {},
   "outputs": [],
   "source": [
    "'''Q1. Which keyword is used to create a function? Create a function to return a list of odd numbers in the\n",
    "range of 1 to 25.'''\n",
    "\n",
    "#Ans. 'Def' keyword is used to create a Function.\n",
    "\n",
    "\n",
    "def odd_numbers():\n",
    "    num = 1\n",
    "    while num <= 25:\n",
    "        yield num\n",
    "        num += 2\n",
    "\n",
    "odd_nums = list(odd_numbers())\n",
    "print(odd_nums)"
   ]
  },
  {
   "cell_type": "code",
   "execution_count": null,
   "id": "16e38465-ae4b-477c-a740-a0febe90c6ba",
   "metadata": {},
   "outputs": [],
   "source": [
    "'''Q2. Why *args and **kwargs is used in some functions? Create a function each for *args and **kwargs\n",
    "to demonstrate their use.'''\n",
    "\n",
    "#Answer . When we are unsure about the number of arguments to pass in the functions ,  use *args and **kwargs.\n",
    "\n",
    "#Eg of Args\n",
    "\n",
    "def add_numbers(*n):\n",
    "    sum=0\n",
    "    for i in n:\n",
    "        sum=sum+i\n",
    "    print(\"Sum:\" , sum)\n",
    "        \n",
    "add_numbers(2,3,4,5)\n",
    "\n",
    "#Eg of Kwargs\n",
    "\n",
    "def kgs(**kwargs):\n",
    "    return kwargs\n",
    "\n",
    "kgs(a=1,b=[2,3,23] , c=\"yogesh\" , d=\"joshi\")"
   ]
  },
  {
   "cell_type": "code",
   "execution_count": null,
   "id": "b2a4a703-bb33-47b7-8695-5f8221dd2969",
   "metadata": {},
   "outputs": [],
   "source": [
    "'''Q3. What is an iterator in python? Name the method used to initialise the iterator object and the method\n",
    "used for iteration. Use these methods to print the first five elements of the given list [2, 4, 6, 8, 10, 12, 14,\n",
    "16, 18, 20].'''\n",
    "\n",
    "#Ans. An iterator in python is an object that can be iterated upon , and used to iterate through a sequence of elements. \n",
    "\n",
    "#The method used to initialize the iterator object is \"iter()\".\n",
    "#The method used for iteration is \"next()\", which gives the next element any sequence.\n",
    "\n",
    "l = [2, 4, 6, 8, 10, 12, 14, 16, 18, 20]\n",
    "iterator = iter(l)\n",
    "\n",
    "for i in range(5):\n",
    "    print(next(iterator))"
   ]
  },
  {
   "cell_type": "code",
   "execution_count": null,
   "id": "dda99d42-983e-4e8f-bac4-d88b0abf22dc",
   "metadata": {},
   "outputs": [],
   "source": [
    "'''Q4. What is a generator function in python? Why yield keyword is used? Give an example of a generator\n",
    "function.'''\n",
    "\n",
    "#Ans. A generator function generates a sequence of values using the `yield` keyword.\n",
    "# The 'yield' keyword is used to return a value from the generator function.\n",
    "\n",
    "#Example of Generator Function:\n",
    "def fib_numbers(n):\n",
    "    a,b=0,1\n",
    "    for i in range(n):\n",
    "        yield a\n",
    "        a,b=b , a+b\n",
    "\n",
    "fib_numbers(6)\n",
    "for i in fib_numbers(6):\n",
    "    print(i)"
   ]
  },
  {
   "cell_type": "code",
   "execution_count": null,
   "id": "d138c248-bc19-4278-8b33-2ca6c8e577d0",
   "metadata": {},
   "outputs": [],
   "source": [
    "'''Q5. Create a generator function for prime numbers less than 1000. Use the next() method to print the\n",
    "first 20 prime numbers.'''\n",
    "\n",
    "#Ans..\n",
    "\n",
    "def prime_numbers():\n",
    "    num = 2\n",
    "    while True:\n",
    "        if all(num % i != 0 for i in range(2, int(num ** 0.5) + 1)):\n",
    "            yield num\n",
    "        num += 1\n",
    "        if num >= 1000:\n",
    "            break\n",
    "p=prime_numbers()\n",
    "for i in range(20):\n",
    "    print(next(p))"
   ]
  },
  {
   "cell_type": "code",
   "execution_count": null,
   "id": "3095cc80-ab41-4818-b840-18fd325c62f8",
   "metadata": {},
   "outputs": [],
   "source": [
    "'''Q6. Write a python program to print the first 10 Fibonacci numbers using a while loop.'''\n",
    "\n",
    "#Ans..\n",
    "\n",
    "def fibonacci_numbers():\n",
    "    a,b=0,1\n",
    "    while True:\n",
    "        yield a\n",
    "        a,b=b , a+b\n",
    "        \n",
    "fib= fibonacci_numbers()\n",
    "\n",
    "for i in range(10):\n",
    "    print(next(fib))"
   ]
  },
  {
   "cell_type": "code",
   "execution_count": null,
   "id": "8b1e6a7b-ad41-441a-97bd-068088aecd5f",
   "metadata": {},
   "outputs": [],
   "source": [
    "'''Q7. Write a List Comprehension to iterate through the given string: ‘pwskills’.\n",
    "Expected output: ['p', 'w', 's', 'k', 'i', 'l', 'l', 's']'''\n",
    "\n",
    "#Ans..\n",
    "\n",
    "s='pwskills'\n",
    "result = [char for char in s if char in 'pwskills']\n",
    "print(result)"
   ]
  },
  {
   "cell_type": "code",
   "execution_count": null,
   "id": "0e086100-9f7f-42bd-8b30-cd723c7406c2",
   "metadata": {},
   "outputs": [],
   "source": [
    "'''Q8. Write a python program to check whether a given number is Palindrome or not using a while loop.'''\n",
    "\n",
    "#Ans..\n",
    "\n",
    "num = int(input(\"Enter a number: \"))\n",
    "temp = num\n",
    "reverse = 0\n",
    "\n",
    "while(temp > 0):\n",
    "    digit = temp % 10\n",
    "    reverse = (reverse * 10) + digit\n",
    "    temp = temp // 10\n",
    "\n",
    "if(num == reverse):\n",
    "    print(\"The number is a palindrome!\")\n",
    "else:\n",
    "    print(\"The number is not a palindrome.\")\n"
   ]
  },
  {
   "cell_type": "code",
   "execution_count": null,
   "id": "12a01c60-4eb9-45a1-84fb-f1a14de0c25d",
   "metadata": {},
   "outputs": [],
   "source": [
    "'''Q9. Write a code to print odd numbers from 1 to 100 using list comprehension.'''\n",
    "\n",
    "#Ans..\n",
    "\n",
    "\n",
    "odd_numbers = [num for num in range(1, 101) if num % 2 != 0]\n",
    "print(odd_numbers)"
   ]
  }
 ],
 "metadata": {
  "kernelspec": {
   "display_name": "Python 3 (ipykernel)",
   "language": "python",
   "name": "python3"
  },
  "language_info": {
   "codemirror_mode": {
    "name": "ipython",
    "version": 3
   },
   "file_extension": ".py",
   "mimetype": "text/x-python",
   "name": "python",
   "nbconvert_exporter": "python",
   "pygments_lexer": "ipython3",
   "version": "3.10.8"
  }
 },
 "nbformat": 4,
 "nbformat_minor": 5
}
