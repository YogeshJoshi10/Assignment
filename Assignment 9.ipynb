{
 "cells": [
  {
   "cell_type": "code",
   "execution_count": null,
   "id": "73ce7787-5200-4cab-8697-ce4a3c4c9981",
   "metadata": {},
   "outputs": [],
   "source": [
    "'''Q1. Explain why we have to use the Exception class while creating a Custom Exception.'''\n",
    "\n",
    "#Ans..\n",
    "\n",
    "'''We use the Exception class as the base class for creating a custom exception because it provides the \n",
    "necessary functionality and behavior for an exception. \n",
    "\n",
    "By inheriting from the Exception class, our custom exception class inherits all the methods and attributes\n",
    "of the base class. This includes methods like __init__, __str__, and others, which we can override or\n",
    "utilize in our custom exception class.\n",
    "\n",
    "Additionally, using the Exception class as the base class ensures that our custom exception can be caught \n",
    "by a generic except block that catches all exceptions. This allows us to handle our custom exception in a \n",
    "similar way to other built-in exceptions.'''"
   ]
  },
  {
   "cell_type": "code",
   "execution_count": null,
   "id": "75f00742-d8f7-4ab4-965c-532f63e202de",
   "metadata": {},
   "outputs": [],
   "source": [
    "'''Q2. Write a python program to print Python Exception Hierarchy.'''\n",
    "\n",
    "#Ans..\n",
    "\n",
    "import sys\n",
    "\n",
    "def print_exception_hierarchy(exception_class, indent=0):\n",
    "    print(' ' * indent + exception_class.__name__)\n",
    "    for subclass in exception_class.__subclasses__():\n",
    "        print_exception_hierarchy(subclass, indent + 4)\n",
    "\n",
    "print_exception_hierarchy(BaseException)\n"
   ]
  },
  {
   "cell_type": "code",
   "execution_count": null,
   "id": "678704cf-cfd7-4824-b28f-9c628de4960d",
   "metadata": {},
   "outputs": [],
   "source": [
    "'''Q3. What errors are defined in the ArithmeticError class? Explain any two with an example.'''\n",
    "\n",
    "#Ans..\n",
    "\n",
    "'''The ArithmeticError class is a subclass of the Exception class and serves as the base class for exceptions\n",
    "that occur during arithmetic operations. It defines several specific errors related to arithmetic \n",
    "calculations. Here are two examples of errors defined in the ArithmeticError class:\n",
    "\n",
    "1. ZeroDivisionError: This error is raised when a division or modulo operation is performed with zero as\n",
    "the divisor. It indicates that the operation is not valid due to division by zero.\n",
    "\n",
    "Example:'''\n",
    "\n",
    "try:\n",
    "    result = 10 / 0\n",
    "except ZeroDivisionError as e:\n",
    "    print(\"Error:\", e)\n",
    "\n",
    "'''2. OverflowError: This error is raised when an arithmetic calculation exceeds the maximum representable \n",
    "value for a numeric type. It indicates that the result of the operation is too large to be represented.\n",
    "\n",
    "Example:'''\n",
    "\n",
    "try:\n",
    "    result = 2 ** 10000\n",
    "except OverflowError as e:\n",
    "    print(\"Error:\", e)\n"
   ]
  },
  {
   "cell_type": "code",
   "execution_count": null,
   "id": "ff180931-fd84-4c55-b313-75bd8d5562c4",
   "metadata": {},
   "outputs": [],
   "source": [
    "'''Q4. Why LookupError class is used? Explain with an example KeyError and IndexError.'''\n",
    "\n",
    "#Ans..\n",
    "\n",
    "'''The LookupError class is used as the base class for exceptions that occur when a key or index is not found \n",
    "in a collection. It defines several specific errors related to lookup operations. Two examples of errors\n",
    "defined in the LookupError class are KeyError and IndexError.\n",
    "\n",
    "1. KeyError: This error is raised when a dictionary key is not found in the dictionary. It indicates that \n",
    "the key being accessed does not exist in the dictionary.\n",
    "\n",
    "Example:'''\n",
    "\n",
    "try:\n",
    "    my_dict = {'a': 1, 'b': 2}\n",
    "    value = my_dict['c']\n",
    "except KeyError as e:\n",
    "    print(\"Error:\", e)\n",
    "    \n",
    "'''2. IndexError: This error is raised when an index is out of range in a sequence or list. It indicates that\n",
    "the index being accessed does not exist in the sequence or list.\n",
    "\n",
    "Example:'''\n",
    "\n",
    "try:\n",
    "    my_list = [1, 2, 3]\n",
    "    value = my_list[3]\n",
    "except IndexError as e:\n",
    "    print(\"Error:\", e)\n"
   ]
  },
  {
   "cell_type": "code",
   "execution_count": null,
   "id": "57c0e3f0-79a7-47b7-b410-9961260cf432",
   "metadata": {},
   "outputs": [],
   "source": [
    "'''Q5. Explain ImportError. What is ModuleNotFoundError?'''\n",
    "\n",
    "#Ans..\n",
    "\n",
    "'''Python’s ImportError (ModuleNotFoundError) indicates that you tried to import a module that Python doesn’t\n",
    "find. It can usually be eliminated by adding a file named __init__.py to the directory and then adding this\n",
    "directory to PYTHONPATH. If this file (__init__.py) is in the folder, change the position of the import in\n",
    "the file that is being imported from top to bottom.'''"
   ]
  },
  {
   "cell_type": "code",
   "execution_count": null,
   "id": "c424553e-76b5-4b00-8831-e0f5435aa7af",
   "metadata": {},
   "outputs": [],
   "source": [
    "'''Q6. List down some best practices for exception handling in python.'''\n",
    "\n",
    "#Ans..\n",
    "\n",
    "'''Use always a specific exception\n",
    "Always avoid to write a multiple exception handling\n",
    "Document all the error\n",
    "Cleanup all the resources'''"
   ]
  }
 ],
 "metadata": {
  "kernelspec": {
   "display_name": "Python 3 (ipykernel)",
   "language": "python",
   "name": "python3"
  },
  "language_info": {
   "codemirror_mode": {
    "name": "ipython",
    "version": 3
   },
   "file_extension": ".py",
   "mimetype": "text/x-python",
   "name": "python",
   "nbconvert_exporter": "python",
   "pygments_lexer": "ipython3",
   "version": "3.10.8"
  }
 },
 "nbformat": 4,
 "nbformat_minor": 5
}
