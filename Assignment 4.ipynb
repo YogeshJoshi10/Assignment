{
 "cells": [
  {
   "cell_type": "code",
   "execution_count": null,
   "id": "7645e441-a68d-44c1-b009-d3287205c76d",
   "metadata": {},
   "outputs": [],
   "source": [
    "'''Q1. Create a python program to sort the given list of tuples based on integer value using a\n",
    "lambda function.\n",
    "[('Sachin Tendulkar', 34357), ('Ricky Ponting', 27483), ('Jack Kallis', 25534), ('Virat Kohli', 24936)]'''\n",
    "\n",
    "#Ans..\n",
    "\n",
    "l=[('Sachin Tendulkar', 34357), ('Ricky Ponting', 27483), ('Jack Kallis', 25534), ('Virat Kohli', 24936)]\n",
    "l.sort(key=lambda x:x[1])\n",
    "l"
   ]
  },
  {
   "cell_type": "code",
   "execution_count": null,
   "id": "3d4ceb8f-382c-4744-8adf-9d735f22cdb8",
   "metadata": {},
   "outputs": [],
   "source": [
    "'''Q2. Write a Python Program to find the squares of all the numbers in the given list of integers using\n",
    "lambda and map functions.\n",
    "[1, 2, 3, 4, 5, 6, 7, 8, 9, 10]'''\n",
    "\n",
    "#Ans..\n",
    "\n",
    "Numbers=[1, 2, 3, 4, 5, 6, 7, 8, 9, 10]\n",
    "squares=list(map(lambda x:x**2 , Numbers))\n",
    "squares"
   ]
  },
  {
   "cell_type": "code",
   "execution_count": null,
   "id": "1a1557aa-d334-47e5-988e-541684317251",
   "metadata": {},
   "outputs": [],
   "source": [
    "'''Q3. Write a python program to convert the given list of integers into a tuple of strings. Use map and\n",
    "lambda functions\n",
    "Given String: [1, 2, 3, 4, 5, 6, 7, 8, 9, 10]'''\n",
    "\n",
    "#Ans..\n",
    "\n",
    "\n",
    "integers=[1, 2, 3, 4, 5, 6, 7, 8, 9, 10]\n",
    "tup_of_strings =tuple(map(lambda x:str(x), integers))\n",
    "tup_of_strings"
   ]
  },
  {
   "cell_type": "code",
   "execution_count": null,
   "id": "029c6fff-eebc-482e-92d2-9d34c368f72b",
   "metadata": {},
   "outputs": [],
   "source": [
    "'''Q4. Write a python program using reduce function to compute the product of a list containing numbers\n",
    "from 1 to 25.'''\n",
    "\n",
    "#Ans..\n",
    "\n",
    "from functools import reduce\n",
    "l=list(range(1,26))\n",
    "product=reduce(lambda a,b: a*b , l1)\n",
    "product"
   ]
  },
  {
   "cell_type": "code",
   "execution_count": null,
   "id": "c796687d-bce1-4914-968e-54fb2fdb0b05",
   "metadata": {},
   "outputs": [],
   "source": [
    "'''Q5. Write a python program to filter the numbers in a given list that are divisible by 2 and 3 using the\n",
    "filter function.\n",
    "[2, 3, 6, 9, 27, 60, 90, 120, 55, 46]'''\n",
    "\n",
    "#Ans..\n",
    "\n",
    "l=[2, 3, 6, 9, 27, 60, 90, 120, 55, 46]\n",
    "Result=list(filter(lambda x: x%2==0 and x%3==0 , l))\n",
    "Result"
   ]
  },
  {
   "cell_type": "code",
   "execution_count": null,
   "id": "ca64a8b7-87c8-48ff-9184-4984f71bd44e",
   "metadata": {},
   "outputs": [],
   "source": [
    "'''Q6. Write a python program to find palindromes in the given list of strings using lambda and filter\n",
    "function.\n",
    "['python', 'php', 'aba', 'radar', 'level']'''\n",
    "\n",
    "#Ans..\n",
    "\n",
    "words=['python', 'php', 'aba', 'radar', 'level']\n",
    "result=list(filter(lambda x:x==x[::-1] , words))\n",
    "result"
   ]
  }
 ],
 "metadata": {
  "kernelspec": {
   "display_name": "Python 3 (ipykernel)",
   "language": "python",
   "name": "python3"
  },
  "language_info": {
   "codemirror_mode": {
    "name": "ipython",
    "version": 3
   },
   "file_extension": ".py",
   "mimetype": "text/x-python",
   "name": "python",
   "nbconvert_exporter": "python",
   "pygments_lexer": "ipython3",
   "version": "3.10.8"
  }
 },
 "nbformat": 4,
 "nbformat_minor": 5
}
