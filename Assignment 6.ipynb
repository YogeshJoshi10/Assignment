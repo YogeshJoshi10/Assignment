{
 "cells": [
  {
   "cell_type": "code",
   "execution_count": null,
   "id": "dab0220e-58b5-42df-927c-1e522cf109ec",
   "metadata": {},
   "outputs": [],
   "source": [
    "'''Q1. Explain Class and Object with respect to Object-Oriented Programming. Give a suitable example.'''\n",
    "\n",
    "#Ans..\n",
    "\n",
    "'''In object-oriented programming, a class is a blueprint for creating objects. \n",
    "It defines the properties and methods of an object, as well as the relationships between objects.\n",
    "An object is an instance of a class, and it has its own unique state and behavior.\n",
    "\n",
    "For example, suppose Bicycle is a class then MountainBicycle , SportsBicycle , TouringBicycle , \n",
    "etc can be considered as objects of the class.'''"
   ]
  },
  {
   "cell_type": "code",
   "execution_count": null,
   "id": "accc0bf7-f8e8-4b36-b130-f813bdf22b37",
   "metadata": {},
   "outputs": [],
   "source": [
    "'''Q2. Name the four pillars of OOPs.'''\n",
    "\n",
    "#Ans...\n",
    "\n",
    "'''Abstraction\n",
    "Encapsulation\n",
    "Polymorphism\n",
    "Inheritance'''"
   ]
  },
  {
   "cell_type": "code",
   "execution_count": null,
   "id": "b9341044-67e9-4b69-bc72-9daf9356934b",
   "metadata": {},
   "outputs": [],
   "source": [
    "'''Q3. Explain why the __init__() function is used. Give a suitable example.'''\n",
    "\n",
    "#Ans..\n",
    "\n",
    "''''The __init__() function is used to initialize an object's state. It is called when an object is created, \n",
    "and it is used to set the initial values of the object's properties.'''\n",
    "\n",
    "class Dog:\n",
    "    def __init__(self, name, breed):\n",
    "        self.name = name\n",
    "        self.breed = breed\n",
    "        \n",
    "my_dog = Dog(\"Buddy\", \"Golden Retriever\")\n",
    "print(my_dog.name)\n",
    "print(my_dog.breed)"
   ]
  },
  {
   "cell_type": "code",
   "execution_count": null,
   "id": "3c87ece6-01a4-4da1-a087-5cb7e6b82c84",
   "metadata": {},
   "outputs": [],
   "source": [
    "'''Q4. Why self is used in OOPs?'''\n",
    "\n",
    "#Ans..\n",
    "\n",
    "'''Self represents the instance of the class. By using the “self”  we can access the attributes\n",
    "and methods of the class in python.It binds the attributes with the given arguments.'''"
   ]
  },
  {
   "cell_type": "code",
   "execution_count": null,
   "id": "eaec6011-1e89-48ff-ad50-e3b57d5d4fdd",
   "metadata": {},
   "outputs": [],
   "source": [
    "'''Q5. What is inheritance? Give an example for each type of inheritance.'''\n",
    "\n",
    "#Ans..\n",
    "\n",
    "'''Inheritance is a mechanism in object-oriented programming that allows a class to inherit properties and\n",
    "methods from another class. The class that is being inherited from is called the superclass or parent class,\n",
    "while the class that inherits is called the subclass or child class.There are four types of inheritance:\n",
    "\n",
    "1. Single Inheritance: In single inheritance, a subclass inherits from only one superclass.\n",
    "For example, a class \"Car\" can inherit from a class \"Vehicle\".\n",
    "\n",
    "2. Multiple Inheritance: In multiple inheritance, a subclass inherits from more than one superclass. \n",
    "For example, a class \"FlyingCar\" can inherit from both \"Car\" and \"Airplane\" classes.\n",
    "\n",
    "3. Hierarchical Inheritance: In hierarchical inheritance, multiple subclasses inherit from a \n",
    "single superclass. For example, classes \"Sedan\", \"SUV\", and \"Hatchback\" can all inherit from the class \"Car\".\n",
    "\n",
    "4. Multilevel Inheritance: In multilevel inheritance, a subclass inherits from a superclass, which in turn \n",
    "inherits from another superclass. For example, a class \"SportsCar\" can inherit from \"Car\", which in turn\n",
    "inherits from \"Vehicle\".'''\n",
    "\n"
   ]
  }
 ],
 "metadata": {
  "kernelspec": {
   "display_name": "Python 3 (ipykernel)",
   "language": "python",
   "name": "python3"
  },
  "language_info": {
   "codemirror_mode": {
    "name": "ipython",
    "version": 3
   },
   "file_extension": ".py",
   "mimetype": "text/x-python",
   "name": "python",
   "nbconvert_exporter": "python",
   "pygments_lexer": "ipython3",
   "version": "3.10.8"
  }
 },
 "nbformat": 4,
 "nbformat_minor": 5
}
