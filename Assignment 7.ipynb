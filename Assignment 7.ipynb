{
 "cells": [
  {
   "cell_type": "code",
   "execution_count": null,
   "id": "494ffa19-e9df-4265-8a8b-39126359fb4f",
   "metadata": {},
   "outputs": [],
   "source": [
    "'''Q1. What is Abstraction in OOps? Explain with an example.'''\n",
    "\n",
    "#Ans..\n",
    "\n",
    "'''Abstraction is a concept in object-oriented programming that allows us to focus on essential features of\n",
    "an object rather than its implementation details. In other words, it is a process of hiding complex \n",
    "implementation details and exposing only the necessary information to the user.\n",
    "\n",
    "For example, consider a car. As a user, we only need to know how to drive the car, how to steer it, \n",
    "and how to use the pedals. We do not need to know how the engine works, how the transmission shifts gears, \n",
    "or how the brakes stop the car. These implementation details are hidden from us, and we can use the car\n",
    "without worrying about them.'''"
   ]
  },
  {
   "cell_type": "code",
   "execution_count": null,
   "id": "c2f93cf1-1117-4f28-b0b4-8b74b72e1438",
   "metadata": {},
   "outputs": [],
   "source": [
    "'''Q2. Differentiate between Abstraction and Encapsulation. Explain with an example.'''\n",
    "\n",
    "#Ans..\n",
    "\n",
    "'''Abstraction is a process of hiding complex implementation details and exposing only the necessary \n",
    "information to the user. It allows us to focus on essential features of an object rather than its \n",
    "implementation details.\n",
    "\n",
    "Encapsulation, on the other hand, is a process of hiding the internal details of an object from the outside\n",
    "world. It involves bundling data and methods that operate on that data within a single unit, called a class.\n",
    "Encapsulation provides data security by preventing unauthorized access and modification of data. \n",
    "\n",
    "An example that illustrates the difference between abstraction and encapsulation is a television. \n",
    "The television has buttons that allow us to turn it on/off, change channels, adjust the volume, etc. \n",
    "These buttons represent the abstraction of the television's functionality. We do not need to know how \n",
    "the television works internally to use these buttons.\n",
    "\n",
    "However, the internal workings of the television are encapsulated within its casing. We cannot directly \n",
    "access or modify the internal components of the television without opening it up and potentially causing \n",
    "damage. This encapsulation provides data security and prevents unauthorized access to the television's \n",
    "internal components.'''"
   ]
  },
  {
   "cell_type": "code",
   "execution_count": null,
   "id": "fd10cd9a-afe5-4e68-9ec7-d3dc59b7cba3",
   "metadata": {},
   "outputs": [],
   "source": [
    "'''Q3. What is abc module in python? Why is it used?'''\n",
    "\n",
    "#Ans..\n",
    "\n",
    "'''The abc module in Python stands for Abstract Base Classes. It is a built-in module that provides a way to\n",
    "define abstract classes in Python. Abstract classes are classes that cannot be instantiated and are meant \n",
    "to be subclassed.\n",
    "\n",
    "The abc module is used to define abstract classes and abstract methods, which are methods that do not have\n",
    "an implementation in the abstract class but must be implemented in the subclasses. This helps to enforce\n",
    "certain behaviors and interfaces in the subclasses.'''"
   ]
  },
  {
   "cell_type": "code",
   "execution_count": null,
   "id": "f0ca0569-d374-492e-b23e-0054a501dcbd",
   "metadata": {},
   "outputs": [],
   "source": [
    "'''Q4. How can we achieve data abstraction?'''\n",
    "\n",
    "#Ans..\n",
    "\n",
    "'''One way is to use abstract classes. An abstract class is a class that cannot be instantiated. \n",
    "It can only be used as a base class for other classes. Abstract classes allow you to define the behavior \n",
    "of an object without having to implement it.\n",
    "\n",
    "Interfaces, on the other hand, are a collection of abstract methods that define a set of behaviors that \n",
    "a class must implement. They do not have any implementation themselves, but rather serve as a contract\n",
    "for the implementing classes.'''"
   ]
  },
  {
   "cell_type": "code",
   "execution_count": null,
   "id": "b3ea96f2-38a8-43a7-b3c6-2d40c940a284",
   "metadata": {},
   "outputs": [],
   "source": [
    "'''Q5. Can we create an instance of an abstract class? Explain your answer.'''\n",
    "\n",
    "#Ans..\n",
    "\n",
    "'''No, we cannot create an instance of an abstract class. Abstract classes are incomplete and are meant to\n",
    "be subclassed. They contain abstract methods that do not have an implementation in the abstract class \n",
    "but must be implemented in the subclasses. Since abstract classes are incomplete, they cannot be instantiated\n",
    "on their own. They are meant to serve as a blueprint for other classes to inherit from and implement their\n",
    "own functionality.'''"
   ]
  }
 ],
 "metadata": {
  "kernelspec": {
   "display_name": "Python 3 (ipykernel)",
   "language": "python",
   "name": "python3"
  },
  "language_info": {
   "codemirror_mode": {
    "name": "ipython",
    "version": 3
   },
   "file_extension": ".py",
   "mimetype": "text/x-python",
   "name": "python",
   "nbconvert_exporter": "python",
   "pygments_lexer": "ipython3",
   "version": "3.10.8"
  }
 },
 "nbformat": 4,
 "nbformat_minor": 5
}
