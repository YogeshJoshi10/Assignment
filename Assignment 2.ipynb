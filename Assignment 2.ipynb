{
 "cells": [
  {
   "cell_type": "code",
   "execution_count": null,
   "id": "844dad79-629b-4e11-961c-8390b5d1a428",
   "metadata": {},
   "outputs": [],
   "source": [
    "#Q1.How do you comment code in Python? What are the different types of comments?\n",
    "\n",
    "#This a comment and python's not gonna execute it\n",
    "\n",
    "Types of comments we have in python\n",
    "\n",
    "1. Single-line comment starts with #(hash) and are written on a single line\n",
    "   For eg : #This is again a single line comment\n",
    " \n",
    "2. Multi-line comment span multiple lines and are enclosed in a triple quotes like this:\n",
    "    -> (''' Text ''') or (\"\"\" Text \"\"\")\n",
    "   For eg : '''This is a multi line comment\n",
    "               It can span multiple lines\n",
    "               Starts and Ends with triple\n",
    "               quotes. '''\n",
    "                                           "
   ]
  },
  {
   "cell_type": "code",
   "execution_count": null,
   "id": "e6a33fd4-8485-4611-a667-2dccf246947d",
   "metadata": {},
   "outputs": [],
   "source": [
    "#Q2. What are variables in Python? How do you declare and assign values to variables?\n",
    "    \n",
    "     Variables are used to store data values that can be manupulated throughout the program\n",
    "     To declare a variable , simply you have to choose a name and assign it a value using assignment operator(=)\n",
    "    \n",
    "     For eg : my_variable=20\n",
    "        \n",
    "     Note : Variable names can contain letters, numbers and underscores , also cannot start with a number\n"
   ]
  },
  {
   "cell_type": "code",
   "execution_count": null,
   "id": "87876f1b-95f3-4589-a857-30eadc992338",
   "metadata": {},
   "outputs": [],
   "source": [
    "#Q3. How do you convert one data type to another in Python?\n",
    "    \n",
    "    #int to string\n",
    "    a=10\n",
    "    b=str(a)\n",
    "    type(b) #output-> stri\n",
    "    \n",
    "    #string to int\n",
    "    a=\"10\"\n",
    "    b=int(a)\n",
    "    type(b)\n",
    "    \n",
    "    \n"
   ]
  }
 ],
 "metadata": {
  "kernelspec": {
   "display_name": "Python 3 (ipykernel)",
   "language": "python",
   "name": "python3"
  },
  "language_info": {
   "codemirror_mode": {
    "name": "ipython",
    "version": 3
   },
   "file_extension": ".py",
   "mimetype": "text/x-python",
   "name": "python",
   "nbconvert_exporter": "python",
   "pygments_lexer": "ipython3",
   "version": "3.10.8"
  }
 },
 "nbformat": 4,
 "nbformat_minor": 5
}
