{
 "cells": [
  {
   "cell_type": "code",
   "execution_count": null,
   "id": "844dad79-629b-4e11-961c-8390b5d1a428",
   "metadata": {},
   "outputs": [],
   "source": [
    "#Q1.How do you comment code in Python? What are the different types of comments?\n",
    "\n",
    "#This a comment and python's not gonna execute it\n",
    "\n",
    "Types of comments we have in python\n",
    "\n",
    "1. Single-line comment starts with #(hash) and are written on a single line\n",
    "   For eg : #This is again a single line comment\n",
    " \n",
    "2. Multi-line comment span multiple lines and are enclosed in a triple quotes like this:\n",
    "    -> (''' Text ''') or (\"\"\" Text \"\"\")\n",
    "   For eg : '''This is a multi line comment\n",
    "               It can span multiple lines\n",
    "               Starts and Ends with triple\n",
    "               quotes. '''\n",
    "                                           "
   ]
  },
  {
   "cell_type": "code",
   "execution_count": null,
   "id": "e6a33fd4-8485-4611-a667-2dccf246947d",
   "metadata": {},
   "outputs": [],
   "source": [
    "#Q2. What are variables in Python? How do you declare and assign values to variables?\n",
    "    \n",
    "     Variables are used to store data values that can be manupulated throughout the program\n",
    "     To declare a variable , simply you have to choose a name and assign it a value using assignment operator(=)\n",
    "    \n",
    "     For eg : my_variable=20\n",
    "        \n",
    "     Note : Variable names can contain letters, numbers and underscores , also cannot start with a number\n"
   ]
  },
  {
   "cell_type": "code",
   "execution_count": null,
   "id": "87876f1b-95f3-4589-a857-30eadc992338",
   "metadata": {},
   "outputs": [],
   "source": [
    "#Q3. How do you convert one data type to another in Python?\n",
    "    \n",
    "    #You can convert one data type to another by using type conversion functions.\n",
    "    \n",
    "    #int to string\n",
    "    a=10\n",
    "    b=str(a)\n",
    "    type(b) #output-> string\n",
    "    \n",
    "    #string to int\n",
    "    a=\"10\"\n",
    "    b=int(a)\n",
    "    type(b) #output-> integer\n",
    "    \n",
    "    \n"
   ]
  },
  {
   "cell_type": "code",
   "execution_count": null,
   "id": "714440d7-cd2c-4bfc-940f-9757006afb00",
   "metadata": {},
   "outputs": [],
   "source": [
    "#Q4. How do you write and execute a Python script from the command line?\n",
    "\n",
    "1. Open a text editor and write your python code.\n",
    "2. Save the file with a .py extension (e.g. script.py).\n",
    "3. Open the terminal or command prompt on your computer.\n",
    "4. Navigate to the directory where your Python script is saved using the 'cd' command.\n",
    "5. Type 'python' followed by the name of your script (e.g. python my_script.py).\n",
    "6. Press Enter to execute the script."
   ]
  },
  {
   "cell_type": "code",
   "execution_count": null,
   "id": "860a4cf6-2b68-4a40-8586-8f038272ad07",
   "metadata": {},
   "outputs": [],
   "source": [
    "#Q5. Given a list my_list = [1, 2, 3, 4, 5], write the code to slice the list and obtain the sub-list [2, 3].\n",
    "\n",
    "\n",
    "my_list = [1, 2, 3, 4, 5]\n",
    "sub_list = my_list[1:3]  # slicing\n",
    "print(sub_list)  # Output: [2, 3]"
   ]
  },
  {
   "cell_type": "code",
   "execution_count": null,
   "id": "944a6346-7809-40fa-a1f0-7217bdd653a5",
   "metadata": {},
   "outputs": [],
   "source": [
    "#Q6. What is a complex number in mathematics, and how is it represented in Python?\n",
    "\n",
    "#Complex numbers are the numbers that are expressed in the form of a+ib where, \n",
    "#a,b are real numbers and 'i' is an imaginary number called “iota”\n",
    "\n",
    "complex_number=2+5j\n",
    "type(complex_number)  #output Complex"
   ]
  },
  {
   "cell_type": "code",
   "execution_count": null,
   "id": "56fd3088-86d7-435a-b070-b0d99c123fee",
   "metadata": {},
   "outputs": [],
   "source": [
    "#Q7. What is the correct way to declare a variable named age and assign the value 25 to it?\n",
    "\n",
    "Age=25\n",
    "print(Age)"
   ]
  },
  {
   "cell_type": "code",
   "execution_count": null,
   "id": "3353e4a9-fac2-4611-b905-994d6917185b",
   "metadata": {},
   "outputs": [],
   "source": [
    "#Q8. Declare a variable named price and assign the value 9.99 to it. What data type does this variable belong to?\n",
    "\n",
    "price=9.99\n",
    "type(price)  #output -> Float\n"
   ]
  },
  {
   "cell_type": "code",
   "execution_count": null,
   "id": "ea14ac20-0190-411c-959f-fe103a079b84",
   "metadata": {},
   "outputs": [],
   "source": [
    "#Q9.Create a variable named name and assign your full name to it as a string.How would you print the value of \n",
    "#this variable?\n",
    "\n",
    "name=\"Yogesh Joshi\"\n",
    "print(name)"
   ]
  },
  {
   "cell_type": "code",
   "execution_count": null,
   "id": "a0163a4a-047a-46aa-8f72-be8f087f62fa",
   "metadata": {},
   "outputs": [],
   "source": [
    "#Q10. Given the string \"Hello, World!\", extract the substring \"World\".\n",
    "\n",
    "a=\"Hello, World!\"\n",
    "a[7:12]   #output \"World\""
   ]
  },
  {
   "cell_type": "code",
   "execution_count": null,
   "id": "66ee7642-79bf-4177-a536-fa994ee1cce5",
   "metadata": {},
   "outputs": [],
   "source": [
    "#Q11. Create a variable named \"is_student\" and assign it a boolean value indicating whether you are\n",
    "#currently a student or not.\n",
    "\n",
    "is_student=True\n",
    "print(is_student)"
   ]
  }
 ],
 "metadata": {
  "kernelspec": {
   "display_name": "Python 3 (ipykernel)",
   "language": "python",
   "name": "python3"
  },
  "language_info": {
   "codemirror_mode": {
    "name": "ipython",
    "version": 3
   },
   "file_extension": ".py",
   "mimetype": "text/x-python",
   "name": "python",
   "nbconvert_exporter": "python",
   "pygments_lexer": "ipython3",
   "version": "3.10.8"
  }
 },
 "nbformat": 4,
 "nbformat_minor": 5
}
