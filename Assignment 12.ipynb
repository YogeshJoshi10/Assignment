{
 "cells": [
  {
   "cell_type": "code",
   "execution_count": null,
   "id": "e05fe2b3-9aad-427b-9ebd-32c1b95a3de9",
   "metadata": {},
   "outputs": [],
   "source": [
    "'''Q1. What is a database? Differentiate between SQL and NoSQL databases.'''\n",
    "\n",
    "#Ans..\n",
    "\n",
    "'''SQL databases are relational, and NoSQL databases are non-relational. SQL databases use structured query \n",
    "language (SQL) and have a predefined schema. NoSQL databases have dynamic schemas for unstructured data. \n",
    "SQL databases are vertically scalable, while NoSQL databases are horizontally scalable.'''"
   ]
  },
  {
   "cell_type": "code",
   "execution_count": null,
   "id": "59608464-9b6e-4a6b-9c79-6a8d11a6243e",
   "metadata": {},
   "outputs": [],
   "source": [
    "'''Q2. What is DDL? Explain why CREATE, DROP, ALTER, and TRUNCATE are used with an example.'''\n",
    "\n",
    "#Ans..\n",
    "\n",
    "'''Data Definition Language(DDL) is a subset of SQL and a part of DBMS(Database Management System). DDL consist\n",
    "of Commands to commands like CREATE, ALTER, TRUNCATE and DROP. These commands are used to create or modify \n",
    "the tables in SQL'''"
   ]
  },
  {
   "cell_type": "code",
   "execution_count": null,
   "id": "75dae77a-41a6-4229-b5ed-5f7caf3ccfb1",
   "metadata": {},
   "outputs": [],
   "source": [
    "'''Q3. What is DML? Explain INSERT, UPDATE, and DELETE with an example.'''\n",
    "\n",
    "#Ans..\n",
    "\n",
    "'''DML It is a dialect which is used to select, insert, delete and update data in a database. \n",
    "INSERT: This statement adds table row values.\n",
    "UPDATE: This statement updates the values of a column in a table. To use this, the WHERE condition is\n",
    "necessary. \n",
    "DELETE: This command removes a particular row from a table.'''"
   ]
  },
  {
   "cell_type": "code",
   "execution_count": null,
   "id": "b2daeee4-acb5-464a-9870-3980e06f203d",
   "metadata": {},
   "outputs": [],
   "source": [
    "'''Q4. What is DQL? Explain SELECT with an example.'''\n",
    "\n",
    "#Ans..\n",
    "\n",
    "'''DQL is a portion of a SQL statement that allows you to get and organise data from a database.\n",
    "You can use the SELECT command to extract data from a database in order to perform actions on it.\n",
    "\n",
    "Example:\n",
    "SELECT Stu_Name FROM Student WHERE Phone = 9039462908;'''"
   ]
  },
  {
   "cell_type": "code",
   "execution_count": null,
   "id": "822bf792-77d8-41e9-ba85-c73ecf607d5f",
   "metadata": {},
   "outputs": [],
   "source": [
    "'''Q5. Explain Primary Key and Foreign Key.'''\n",
    "\n",
    "#Ans..\n",
    "\n",
    "'''A primary key generally focuses on the uniqueness of the table. It assures the value in the specific column\n",
    "is unique. A foreign key is generally used to build a relationship between the two tables. The table allows\n",
    "only one primary key.'''"
   ]
  },
  {
   "cell_type": "code",
   "execution_count": null,
   "id": "818142e2-da36-48fb-b5e0-fa6b5c1aa624",
   "metadata": {},
   "outputs": [],
   "source": [
    "'''Q6. Write a python code to connect MySQL to python. Explain the cursor() and execute() method.'''\n",
    "\n",
    "#Ans..\n",
    "\n",
    "import mysql.connector\n",
    "\n",
    "cnx = mysql.connector.connect(user='username', password='password',\n",
    "                              host='localhost',\n",
    "                              database='database_name')\n",
    "\n",
    "cursor = cnx.cursor()\n",
    "query = \"SELECT * FROM table_name\"\n",
    "cursor.execute(query)\n",
    "rows = cursor.fetchall()\n",
    "for row in rows:\n",
    "    print(row)\n",
    "cursor.close()\n",
    "cnx.close()\n"
   ]
  },
  {
   "cell_type": "code",
   "execution_count": null,
   "id": "bb0ee11b-1a28-469a-ba91-95cd7228ead6",
   "metadata": {},
   "outputs": [],
   "source": [
    "'''Q7. Give the order of execution of SQL clauses in an SQL query.'''\n",
    "\n",
    "#Ans..\n",
    "'''\n",
    "1-FROM     : Tables are joined to get the base data.\n",
    "2-WHERE    : The base data is filtered.\n",
    "3-GROUP BY : The filtered base data is grouped.\n",
    "4-HAVING   : The grouped base data is filtered.\n",
    "5-SELECT   : The final data is returned.\n",
    "6-ORDER BY : The final data is sorted.\n",
    "7-LIMIT\t   : The returned data is limited to row count.'''"
   ]
  }
 ],
 "metadata": {
  "kernelspec": {
   "display_name": "Python 3 (ipykernel)",
   "language": "python",
   "name": "python3"
  },
  "language_info": {
   "codemirror_mode": {
    "name": "ipython",
    "version": 3
   },
   "file_extension": ".py",
   "mimetype": "text/x-python",
   "name": "python",
   "nbconvert_exporter": "python",
   "pygments_lexer": "ipython3",
   "version": "3.10.8"
  }
 },
 "nbformat": 4,
 "nbformat_minor": 5
}
